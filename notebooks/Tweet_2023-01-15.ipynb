{
 "cells": [
  {
   "attachments": {},
   "cell_type": "markdown",
   "metadata": {},
   "source": [
    "### Importing Dependencies"
   ]
  },
  {
   "cell_type": "code",
   "execution_count": 326,
   "metadata": {},
   "outputs": [],
   "source": [
    "import pandas as pd\n",
    "import matplotlib.pyplot as plt\n",
    "from wordcloud import WordCloud\n",
    "from langdetect import detect\n",
    "from typing import List\n",
    "from sklearn.base import BaseEstimator, TransformerMixin\n",
    "from sklearn.feature_extraction.text import CountVectorizer\n",
    "import nltk\n",
    "from nltk.stem import WordNetLemmatizer\n",
    "from nltk.stem import SnowballStemmer\n",
    "import re\n",
    "from nltk.tokenize import RegexpTokenizer\n",
    "import demoji\n",
    "from nltk.corpus import stopwords\n",
    "from sklearn.base import BaseEstimator, TransformerMixin\n",
    "from sklearn.pipeline import Pipeline\n",
    "from sklearn.linear_model import LogisticRegression\n",
    "from sklearn.model_selection import train_test_split\n",
    "import eli5\n",
    "from sklearn.metrics import accuracy_score, classification_report"
   ]
  },
  {
   "cell_type": "code",
   "execution_count": 236,
   "metadata": {},
   "outputs": [
    {
     "name": "stderr",
     "output_type": "stream",
     "text": [
      "C:\\Users\\stabu\\AppData\\Local\\Temp\\ipykernel_2552\\2299328559.py:1: FutureWarning: The demoji.download_codes attribute is deprecated and will be removed from demoji in a future version. It is an unused attribute as emoji codes are now distributed directly with the demoji package.\n",
      "  demoji.download_codes()\n"
     ]
    }
   ],
   "source": [
    "demoji.download_codes()"
   ]
  },
  {
   "cell_type": "code",
   "execution_count": 246,
   "metadata": {},
   "outputs": [
    {
     "name": "stderr",
     "output_type": "stream",
     "text": [
      "[nltk_data] Downloading package stopwords to\n",
      "[nltk_data]     C:\\Users\\stabu\\AppData\\Roaming\\nltk_data...\n",
      "[nltk_data]   Unzipping corpora\\stopwords.zip.\n"
     ]
    },
    {
     "data": {
      "text/plain": [
       "True"
      ]
     },
     "execution_count": 246,
     "metadata": {},
     "output_type": "execute_result"
    }
   ],
   "source": [
    "nltk.download(\"stopwords\")"
   ]
  },
  {
   "cell_type": "code",
   "execution_count": 151,
   "metadata": {},
   "outputs": [
    {
     "name": "stderr",
     "output_type": "stream",
     "text": [
      "[nltk_data] Downloading package wordnet to\n",
      "[nltk_data]     C:\\Users\\stabu\\AppData\\Roaming\\nltk_data...\n",
      "[nltk_data]   Package wordnet is already up-to-date!\n",
      "[nltk_data] Downloading package omw-1.4 to\n",
      "[nltk_data]     C:\\Users\\stabu\\AppData\\Roaming\\nltk_data...\n",
      "[nltk_data]   Package omw-1.4 is already up-to-date!\n",
      "[nltk_data] Downloading package punkt to\n",
      "[nltk_data]     C:\\Users\\stabu\\AppData\\Roaming\\nltk_data...\n",
      "[nltk_data]   Unzipping tokenizers\\punkt.zip.\n"
     ]
    },
    {
     "data": {
      "text/plain": [
       "True"
      ]
     },
     "execution_count": 151,
     "metadata": {},
     "output_type": "execute_result"
    }
   ],
   "source": [
    "\n",
    "nltk.download(\"wordnet\")\n",
    "nltk.download('omw-1.4')\n",
    "nltk.download(\"punkt\")"
   ]
  },
  {
   "attachments": {},
   "cell_type": "markdown",
   "metadata": {},
   "source": [
    "### Importing dataset"
   ]
  },
  {
   "cell_type": "code",
   "execution_count": 157,
   "metadata": {},
   "outputs": [],
   "source": [
    "df = pd.read_csv(\"./data/Ukraine_10K_tweets_sentiment_analysis.csv\")"
   ]
  },
  {
   "cell_type": "code",
   "execution_count": 15,
   "metadata": {},
   "outputs": [
    {
     "name": "stdout",
     "output_type": "stream",
     "text": [
      "<class 'pandas.core.frame.DataFrame'>\n",
      "RangeIndex: 10167 entries, 0 to 10166\n",
      "Data columns (total 4 columns):\n",
      " #   Column        Non-Null Count  Dtype  \n",
      "---  ------        --------------  -----  \n",
      " 0   Tweet         9999 non-null   object \n",
      " 1   polarity      9999 non-null   float64\n",
      " 2   subjectivity  9999 non-null   float64\n",
      " 3   Sentiment     9999 non-null   object \n",
      "dtypes: float64(2), object(2)\n",
      "memory usage: 317.8+ KB\n"
     ]
    }
   ],
   "source": [
    "df.info()"
   ]
  },
  {
   "cell_type": "code",
   "execution_count": 52,
   "metadata": {},
   "outputs": [
    {
     "data": {
      "text/html": [
       "<div>\n",
       "<style scoped>\n",
       "    .dataframe tbody tr th:only-of-type {\n",
       "        vertical-align: middle;\n",
       "    }\n",
       "\n",
       "    .dataframe tbody tr th {\n",
       "        vertical-align: top;\n",
       "    }\n",
       "\n",
       "    .dataframe thead th {\n",
       "        text-align: right;\n",
       "    }\n",
       "</style>\n",
       "<table border=\"1\" class=\"dataframe\">\n",
       "  <thead>\n",
       "    <tr style=\"text-align: right;\">\n",
       "      <th></th>\n",
       "      <th>Tweet</th>\n",
       "      <th>polarity</th>\n",
       "      <th>subjectivity</th>\n",
       "      <th>Sentiment</th>\n",
       "    </tr>\n",
       "  </thead>\n",
       "  <tbody>\n",
       "    <tr>\n",
       "      <th>0</th>\n",
       "      <td>RT @ChristopherJM: Zelensky also confirms CIA ...</td>\n",
       "      <td>0.000000</td>\n",
       "      <td>0.000000</td>\n",
       "      <td>Negative</td>\n",
       "    </tr>\n",
       "    <tr>\n",
       "      <th>1</th>\n",
       "      <td>RT @oryxspioenkop: Russia acquired these vehic...</td>\n",
       "      <td>-0.100000</td>\n",
       "      <td>0.300000</td>\n",
       "      <td>Positive</td>\n",
       "    </tr>\n",
       "    <tr>\n",
       "      <th>2</th>\n",
       "      <td>RT @RepMTG: I’m calling for an audit of every ...</td>\n",
       "      <td>-0.035714</td>\n",
       "      <td>0.607143</td>\n",
       "      <td>Positive</td>\n",
       "    </tr>\n",
       "    <tr>\n",
       "      <th>3</th>\n",
       "      <td>RT @KyivIndependent: \"Russian goal seems to be...</td>\n",
       "      <td>0.034091</td>\n",
       "      <td>0.113636</td>\n",
       "      <td>Negative</td>\n",
       "    </tr>\n",
       "    <tr>\n",
       "      <th>4</th>\n",
       "      <td>RT @william98161886: I see Rishi just given an...</td>\n",
       "      <td>-0.325521</td>\n",
       "      <td>0.166667</td>\n",
       "      <td>Positive</td>\n",
       "    </tr>\n",
       "  </tbody>\n",
       "</table>\n",
       "</div>"
      ],
      "text/plain": [
       "                                               Tweet  polarity  subjectivity  \\\n",
       "0  RT @ChristopherJM: Zelensky also confirms CIA ...  0.000000      0.000000   \n",
       "1  RT @oryxspioenkop: Russia acquired these vehic... -0.100000      0.300000   \n",
       "2  RT @RepMTG: I’m calling for an audit of every ... -0.035714      0.607143   \n",
       "3  RT @KyivIndependent: \"Russian goal seems to be...  0.034091      0.113636   \n",
       "4  RT @william98161886: I see Rishi just given an... -0.325521      0.166667   \n",
       "\n",
       "  Sentiment  \n",
       "0  Negative  \n",
       "1  Positive  \n",
       "2  Positive  \n",
       "3  Negative  \n",
       "4  Positive  "
      ]
     },
     "execution_count": 52,
     "metadata": {},
     "output_type": "execute_result"
    }
   ],
   "source": [
    "df.head(5)"
   ]
  },
  {
   "cell_type": "code",
   "execution_count": 34,
   "metadata": {},
   "outputs": [
    {
     "data": {
      "text/plain": [
       "(2745, 4)"
      ]
     },
     "execution_count": 34,
     "metadata": {},
     "output_type": "execute_result"
    }
   ],
   "source": [
    "df.shape"
   ]
  },
  {
   "cell_type": "code",
   "execution_count": 13,
   "metadata": {},
   "outputs": [
    {
     "data": {
      "text/plain": [
       "40668"
      ]
     },
     "execution_count": 13,
     "metadata": {},
     "output_type": "execute_result"
    }
   ],
   "source": [
    "df.size"
   ]
  },
  {
   "cell_type": "code",
   "execution_count": 27,
   "metadata": {},
   "outputs": [
    {
     "data": {
      "text/html": [
       "<div>\n",
       "<style scoped>\n",
       "    .dataframe tbody tr th:only-of-type {\n",
       "        vertical-align: middle;\n",
       "    }\n",
       "\n",
       "    .dataframe tbody tr th {\n",
       "        vertical-align: top;\n",
       "    }\n",
       "\n",
       "    .dataframe thead th {\n",
       "        text-align: right;\n",
       "    }\n",
       "</style>\n",
       "<table border=\"1\" class=\"dataframe\">\n",
       "  <thead>\n",
       "    <tr style=\"text-align: right;\">\n",
       "      <th></th>\n",
       "      <th>polarity</th>\n",
       "      <th>subjectivity</th>\n",
       "    </tr>\n",
       "  </thead>\n",
       "  <tbody>\n",
       "    <tr>\n",
       "      <th>count</th>\n",
       "      <td>2744.000000</td>\n",
       "      <td>2744.000000</td>\n",
       "    </tr>\n",
       "    <tr>\n",
       "      <th>mean</th>\n",
       "      <td>0.027337</td>\n",
       "      <td>0.231773</td>\n",
       "    </tr>\n",
       "    <tr>\n",
       "      <th>std</th>\n",
       "      <td>0.215327</td>\n",
       "      <td>0.306167</td>\n",
       "    </tr>\n",
       "    <tr>\n",
       "      <th>min</th>\n",
       "      <td>-1.000000</td>\n",
       "      <td>0.000000</td>\n",
       "    </tr>\n",
       "    <tr>\n",
       "      <th>25%</th>\n",
       "      <td>0.000000</td>\n",
       "      <td>0.000000</td>\n",
       "    </tr>\n",
       "    <tr>\n",
       "      <th>50%</th>\n",
       "      <td>0.000000</td>\n",
       "      <td>0.000000</td>\n",
       "    </tr>\n",
       "    <tr>\n",
       "      <th>75%</th>\n",
       "      <td>0.036458</td>\n",
       "      <td>0.479241</td>\n",
       "    </tr>\n",
       "    <tr>\n",
       "      <th>max</th>\n",
       "      <td>1.000000</td>\n",
       "      <td>1.000000</td>\n",
       "    </tr>\n",
       "  </tbody>\n",
       "</table>\n",
       "</div>"
      ],
      "text/plain": [
       "          polarity  subjectivity\n",
       "count  2744.000000   2744.000000\n",
       "mean      0.027337      0.231773\n",
       "std       0.215327      0.306167\n",
       "min      -1.000000      0.000000\n",
       "25%       0.000000      0.000000\n",
       "50%       0.000000      0.000000\n",
       "75%       0.036458      0.479241\n",
       "max       1.000000      1.000000"
      ]
     },
     "execution_count": 27,
     "metadata": {},
     "output_type": "execute_result"
    }
   ],
   "source": [
    "df.describe()"
   ]
  },
  {
   "cell_type": "code",
   "execution_count": 108,
   "metadata": {},
   "outputs": [
    {
     "data": {
      "text/plain": [
       "Tweet           2091\n",
       "polarity         244\n",
       "subjectivity     231\n",
       "Sentiment          2\n",
       "Language           1\n",
       "dtype: int64"
      ]
     },
     "execution_count": 108,
     "metadata": {},
     "output_type": "execute_result"
    }
   ],
   "source": [
    "df.nunique()"
   ]
  },
  {
   "cell_type": "code",
   "execution_count": 109,
   "metadata": {},
   "outputs": [
    {
     "data": {
      "text/plain": [
       "Negative    1652\n",
       "Positive     439\n",
       "Name: Sentiment, dtype: int64"
      ]
     },
     "execution_count": 109,
     "metadata": {},
     "output_type": "execute_result"
    }
   ],
   "source": [
    "df['Sentiment'].value_counts()"
   ]
  },
  {
   "cell_type": "code",
   "execution_count": 110,
   "metadata": {},
   "outputs": [
    {
     "name": "stdout",
     "output_type": "stream",
     "text": [
      "RT @oryxspioenkop: Russia acquired these vehicles from the secondhand car market, and did not capture them from Ukraine. https://t.co/bagJE…\n",
      "\n",
      "RT @RepMTG: I’m calling for an audit of every single penny that has been sent to Ukraine.\n",
      "\n",
      "This must be done as soon as possible for the Am…\n",
      "\n"
     ]
    }
   ],
   "source": [
    "# let's look at 2 positive reviews\n",
    "\n",
    "for value in df.loc[df[\"Sentiment\"] == \"Positive\"].head(2).Tweet.values:\n",
    "    print(value)\n",
    "    print()"
   ]
  },
  {
   "cell_type": "code",
   "execution_count": null,
   "metadata": {},
   "outputs": [],
   "source": [
    "# let's look at 2 negative reviews\n",
    "\n",
    "for value in df.loc[df[\"Sentiment\"] == \"Negative\"].head(50).Tweet.values:\n",
    "    print(value)\n",
    "    print()"
   ]
  },
  {
   "attachments": {},
   "cell_type": "markdown",
   "metadata": {},
   "source": [
    "### Data cleaning "
   ]
  },
  {
   "cell_type": "code",
   "execution_count": 169,
   "metadata": {},
   "outputs": [],
   "source": [
    "df=df.drop(columns=[\"polarity\",\"subjectivity\"])"
   ]
  },
  {
   "cell_type": "code",
   "execution_count": 159,
   "metadata": {},
   "outputs": [
    {
     "name": "stdout",
     "output_type": "stream",
     "text": [
      "Size before deduplication: 40668 (10167, 4)\n",
      "Size after deduplication: 10980 (2745, 4)\n"
     ]
    }
   ],
   "source": [
    "# remove dublicates\n",
    "print(f\"Size before deduplication: {df.size} {df.shape}\")\n",
    "df = df.drop_duplicates()\n",
    "print(f\"Size after deduplication: {df.size} {df.shape}\")"
   ]
  },
  {
   "cell_type": "code",
   "execution_count": 160,
   "metadata": {},
   "outputs": [
    {
     "name": "stdout",
     "output_type": "stream",
     "text": [
      "Size before deduplication: 10980 (2745, 4)\n",
      "Size after deduplication: 10980 (2745, 4)\n"
     ]
    }
   ],
   "source": [
    "#remove empty rows\n",
    "print(f\"Size before deduplication: {df.size} {df.shape}\")\n",
    "df.dropna()\n",
    "print(f\"Size after deduplication: {df.size} {df.shape}\")"
   ]
  },
  {
   "cell_type": "code",
   "execution_count": 161,
   "metadata": {},
   "outputs": [],
   "source": [
    "def set_language(text: str) -> str:\n",
    "    try:\n",
    "        return detect(text)\n",
    "    except:\n",
    "        return \"DELETE\"\n",
    "\n",
    "df['Language'] = df.Tweet.apply(set_language)\n",
    "\n",
    "\n",
    "\n"
   ]
  },
  {
   "cell_type": "code",
   "execution_count": null,
   "metadata": {},
   "outputs": [],
   "source": [
    "df['Language'].value_counts()"
   ]
  },
  {
   "cell_type": "code",
   "execution_count": 163,
   "metadata": {},
   "outputs": [],
   "source": [
    "df.drop(df.loc[df['Language']!=\"en\"].index, inplace=True)"
   ]
  },
  {
   "cell_type": "code",
   "execution_count": 170,
   "metadata": {},
   "outputs": [],
   "source": [
    "df=df.drop(columns=[\"Language\"])"
   ]
  },
  {
   "cell_type": "code",
   "execution_count": 171,
   "metadata": {},
   "outputs": [
    {
     "data": {
      "text/plain": [
       "Tweet        2084\n",
       "Sentiment       2\n",
       "dtype: int64"
      ]
     },
     "execution_count": 171,
     "metadata": {},
     "output_type": "execute_result"
    }
   ],
   "source": [
    "df.nunique()"
   ]
  },
  {
   "cell_type": "code",
   "execution_count": 172,
   "metadata": {},
   "outputs": [
    {
     "data": {
      "text/plain": [
       "Negative    1648\n",
       "Positive     436\n",
       "Name: Sentiment, dtype: int64"
      ]
     },
     "execution_count": 172,
     "metadata": {},
     "output_type": "execute_result"
    }
   ],
   "source": [
    "df['Sentiment'].value_counts()"
   ]
  },
  {
   "attachments": {},
   "cell_type": "markdown",
   "metadata": {},
   "source": [
    "##### Save cleaned date to .csv"
   ]
  },
  {
   "cell_type": "code",
   "execution_count": 175,
   "metadata": {},
   "outputs": [],
   "source": [
    "df.to_csv(\"./data/clean_tweets.csv\",index=False)"
   ]
  },
  {
   "attachments": {},
   "cell_type": "markdown",
   "metadata": {},
   "source": [
    "### Plotting word clouds"
   ]
  },
  {
   "cell_type": "code",
   "execution_count": 265,
   "metadata": {},
   "outputs": [
    {
     "data": {
      "image/png": "[encoded data removed]",
      "text/plain": [
       "<Figure size 640x480 with 1 Axes>"
      ]
     },
     "metadata": {},
     "output_type": "display_data"
    }
   ],
   "source": [
    "# looking at the cloud of postive reviews\n",
    "\n",
    "postivie_df = df.loc[df[\"Sentiment\"] == \"Positive\"]\n",
    "\n",
    "all_tweets = \" \".join(postivie_df[\"Tweet\"].values)\n",
    "\n",
    "#wordcloud = WordCloud().generate(all_tweets)\n",
    "\n",
    "# take relative word frequencies into account, lower max_font_size\n",
    "wordcloud = WordCloud(background_color=\"white\",max_words=10,max_font_size=40, relative_scaling=.5).generate(all_tweets)\n",
    "plt.figure()\n",
    "plt.imshow(wordcloud)\n",
    "plt.axis(\"off\")\n",
    "plt.show()"
   ]
  },
  {
   "cell_type": "code",
   "execution_count": 264,
   "metadata": {},
   "outputs": [
    {
     "data": {
      "image/png": "[encoded data removed]",
      "text/plain": [
       "<Figure size 640x480 with 1 Axes>"
      ]
     },
     "metadata": {},
     "output_type": "display_data"
    }
   ],
   "source": [
    "# looking at the cloud of negative reviews\n",
    "\n",
    "negative_df = df.loc[df[\"Sentiment\"] == \"Negative\"]\n",
    "\n",
    "all_tweets = \" \".join(negative_df[\"Tweet\"].values)\n",
    "\n",
    "wordcloud = WordCloud().generate(all_tweets)\n",
    "\n",
    "# take relative word frequencies into account, lower max_font_size\n",
    "wordcloud = WordCloud(background_color=\"white\",max_words=10,max_font_size=40, relative_scaling=.5).generate(all_tweets)\n",
    "plt.figure()\n",
    "plt.imshow(wordcloud)\n",
    "plt.axis(\"off\")\n",
    "plt.show()"
   ]
  },
  {
   "attachments": {},
   "cell_type": "markdown",
   "metadata": {},
   "source": [
    "### Preprocess Text and Count Vectorizer"
   ]
  },
  {
   "cell_type": "code",
   "execution_count": 253,
   "metadata": {},
   "outputs": [],
   "source": [
    "df = pd.read_csv(\"./data/clean_tweets.csv\")"
   ]
  },
  {
   "attachments": {},
   "cell_type": "markdown",
   "metadata": {},
   "source": [
    "##### Lower Casing"
   ]
  },
  {
   "cell_type": "code",
   "execution_count": 254,
   "metadata": {},
   "outputs": [
    {
     "name": "stdout",
     "output_type": "stream",
     "text": [
      "dictionary size:  7846\n",
      "[\"rt @christopherjm: zelensky also confirms cia director bill burns' kyiv visit tuesday, during russia's missile attack. “yesterday burns sat…\"\n",
      " 'rt @oryxspioenkop: russia acquired these vehicles from the secondhand car market, and did not capture them from ukraine. https://t.co/bagje…']\n"
     ]
    }
   ],
   "source": [
    "def lower_casing(text: str) -> str:\n",
    "    return text.lower()\n",
    "\n",
    "df[\"Tweet\"] = df.Tweet.apply(lower_casing)\n",
    "\n",
    "cv = CountVectorizer()\n",
    "cv.fit(df[\"Tweet\"].values)\n",
    "\n",
    "print(\"dictionary size: \", len(cv.get_feature_names_out()))\n",
    "print(df.head(2).Tweet.values)"
   ]
  },
  {
   "attachments": {},
   "cell_type": "markdown",
   "metadata": {},
   "source": [
    "##### Replacing URLs"
   ]
  },
  {
   "cell_type": "code",
   "execution_count": 255,
   "metadata": {},
   "outputs": [
    {
     "name": "stdout",
     "output_type": "stream",
     "text": [
      "dictionary size:  6938\n",
      "[\"rt @christopherjm: zelensky also confirms cia director bill burns' kyiv visit tuesday, during russia's missile attack. “yesterday burns sat…\"\n",
      " 'rt @oryxspioenkop: russia acquired these vehicles from the secondhand car market, and did not capture them from ukraine. URL']\n"
     ]
    }
   ],
   "source": [
    "def URL_relpacing(text: str) -> str:\n",
    "    return re.sub(r\"((http://)[^ ]*|(https://)[^ ]*|( www\\.)[^ ]*)\",\"URL\", text)\n",
    "\n",
    "df[\"Tweet\"] = df.Tweet.apply(URL_relpacing)\n",
    "\n",
    "cv = CountVectorizer()\n",
    "cv.fit(df[\"Tweet\"].values)\n",
    "\n",
    "print(\"dictionary size: \", len(cv.get_feature_names_out()))\n",
    "print(df.head(2).Tweet.values)\n"
   ]
  },
  {
   "attachments": {},
   "cell_type": "markdown",
   "metadata": {},
   "source": [
    "##### Removing Usernames"
   ]
  },
  {
   "cell_type": "code",
   "execution_count": 256,
   "metadata": {},
   "outputs": [
    {
     "name": "stdout",
     "output_type": "stream",
     "text": [
      "dictionary size:  5365\n",
      "[\"rt  zelensky also confirms cia director bill burns' kyiv visit tuesday, during russia's missile attack. “yesterday burns sat…\"\n",
      " 'rt  russia acquired these vehicles from the secondhand car market, and did not capture them from ukraine. URL'\n",
      " 'rt  i’m calling for an audit of every single penny that has been sent to ukraine.\\n\\nthis must be done as soon as possible for the am…'\n",
      " 'rt  \"russian goal seems to be to entrench and defend for the next several months, and then attempt a new offensive in the…'\n",
      " \"rt  i see rishi just given another 4 and a half billion to the ukraine !!!  you'd think it was us at fekin war with russia…\"\n",
      " 'rt  URL'\n",
      " \"rt  predicting the trajectory and pacing of this war has not been america's strong suit. providing security assistance to le…\"\n",
      " 'rt  if putin took over ukraine, there was no guarantee that he wouldn’t immediately, or after a little while, go into neighbo…'\n",
      " 'can the risk of spillover from the ukraine war be contained? URL'\n",
      " 'rt  biden-ftx-ukraine is everything they claimed trump was doing with russia and then investigated him for five straight ye…'\n",
      " 'canada sanctions iranian drone makers amid russian strikes in ukraine – national #iranrussiannews #russiannews… URL'\n",
      " 'rt  three military toyota mega cruisers, likely donated to ukraine by japan, now in russian service. URL'\n",
      " 'rt  \"freedom and democracy\" arrived in kherson...\\n\\nsbu(security service of ukraine) rounded up some more \"collaborators\" in…'\n",
      " 'rt  #polandmissilestrike #ukraine #ftxscandal URL'\n",
      " 'rt  ukraine executed the false flag attack on poland so poorly that there was no chance to blame russia without losing all credi…'\n",
      " ' su-57 is labeled \"5th gen\" by the kremlin...🤨\\n\\ndo we really all believe that it\\'s even close to wester… URL'\n",
      " 'rt  you guys understand what you are watching right now? you think this is a coincidence that suddenly we are sending ukrain…'\n",
      " ' ukraine offers its condolences but claims to have evidence that they had no part in the accident. i… URL'\n",
      " 'rt  the missile attack killing two innocent people in poland was likely from ukrainian air defense.\\n\\nwe must stop letting zelensky…'\n",
      " 'rt  i was called a dangerous conspiracy theorist yesterday for stating that ukraine was responsible for the deadly missile…'\n",
      " 'rt  a reminder that russia shot down a passenger jet over ukraine in 2014, killing 298 civilians, and the west shrugged and got o…'\n",
      " 'rt  croatia presumably will donate 14 mi-8 and mi-8 mtv-1 helicopters to ukraine.\\nlink -URL'\n",
      " 'rt  i will vote no to any additional funding to ukraine.\\n\\nenough is enough, i will not stand for this corrupt money laundering op…'\n",
      " 'rt  air defense systems provided by the us and allied countries help ukraine protect the civilian population, and the american n…'\n",
      " \"rt  russia is behind the tigray genocide, collaborating with the fascist gov't of ethiopia. it is backing the tigray genocide a…\"\n",
      " 'rt  so if i understand it right we sent money to ukraine, then ukraine invests money in a crypto scam that then spends 40 mi…'\n",
      " ' ukraine took blame for that missile yesterday evening, please keep up'\n",
      " 'rt  from the  today:  and i spoke with  as we stand firm with the people of ukraine. we also a…'\n",
      " \" i am condemning russia's agression on ukraine.are your goals to stop conflicts everywhere they exists t… URL\"\n",
      " 'rt  we tried to warn you\\nو ما علينا الا البلاغ المبين\\n\\nmarch 2022 with \\n\\n“azov nazi battalions are officially part of…'\n",
      " '  bruh, it was a ukrainian missile lol, we going to invoke article 5 on ukraine i hope?'\n",
      " \"rt  in the picturesque seclusion of the wooded cemetery in plesets'ke village near kyiv, russia killed this women. shrapnel f…\"\n",
      " \" no.  i'm saying that the pentagon watches every inch of ukraine (maybe poland, too).  they know where it launched.\"\n",
      " 'rt  proof that \"slava ukraini\" is a fascist salute:\\n\\nthe second congress of the oun-b issued detailed instructions that the f…'\n",
      " 'rt  der spiegel URL'\n",
      " 'rt  just in: the probability of russia conquering ukraine militarily is “close to zero,” says gen. milley, in rare pentagon p…'\n",
      " ' it works. the pr machine went into overdrive. it’s close to mandatory to include references to ukraine,… URL'\n",
      " 'rt  \"a complete accident,  the missile went off by itself\" says ukraine guy URL'\n",
      " '    i dont think that means what you think it means really.  and w… URL'\n",
      " '     ww1, ww2, vietnam war, korean war, 9/11, afghanis… URL'\n",
      " \" vichnaya pamyat'. eternal memory to oleg, hero of ukraine. he will not be forgotten. may he rest in peace everlasting.\"\n",
      " \"rt  us funding for war in ukraine in 9 months:\\n\\nmar: $ 13.6 billion\\nmay: $ 40b \\nnov: $ 37.7b: biden's new request\\n\\nthat $ 91.3…\"\n",
      " 'rt  the winter war is beneficial to ukrainians, - us defense minister lloyd austin.\\n\\n \"we provided ukraine with a huge amo…'\n",
      " 'rt  did ukraine try to lie us into wwiii? - today on the liberty report:\\nURL'\n",
      " 'rt  history will come to know biden’s ukraine war as the greatest financial scandal in american presidential history.'\n",
      " 'rt  this was premature and we need to be careful. one of my concerns is that ukraine will need  american “advisors” to handle…'\n",
      " \"rt  watch: #bnnrussia reports\\n\\nchechen leader ramzan kadyrov responds after learning that the sbu (ukraine's security service) has…\"\n",
      " \"rt  if we project out to a year, that would be $120 billion each year to fuel the us proxy war in ukraine.\\n\\nthat's roughly 1/8…\"\n",
      " ' ultimately responsible for ukraine launching a missile in the wrong direction?'\n",
      " 'rt  fifa president calls for world cup ceasefire in ukraine at g20 URL URL'\n",
      " 'rt  breaking: \"this is getting ridiculous. the ukrainians are destroying [our] confidence in them. nobody is blaming ukraine and t…'\n",
      " 'rt  if approved, that’s more than $100 billion in aid to ukraine just this year. biden already approved $813 billion in us mili…'\n",
      " \"rt  since it was ukraine's missile that hit our nato ally poland, can we at least stop spending billions to arm them now?\"\n",
      " 'rt  ukraine is risking ww3 by shooting down an innocent russian cruise missile on its way to denazify a childrens playground.'\n",
      " 'rt  we must “give ukraine as much military aid as we can give, so that ukraine can defend themselves and push the aggressor back…'\n",
      " 'rt  without proof, zelensky accuses russia of firing missiles at poland, killing two poles, the media lap it up and the world…'\n",
      " 'rt  🇺🇦kiev government humiliates and officially asks jewish communities to hold prayer for \"defenders of ukraine\" on octob…'\n",
      " 'rt  ⚡️⚡️financial times: \\n\\nresponding to zelensky’s remarks tonight, a nato country diplomat told me: “this is getting ridicul…'\n",
      " 'rt  us officials now admit blast in poland caused by stray missile fired by ukraine\\n\\nURL'\n",
      " 'rt  please do not forget the price #ukraine is paying on a daily basis for our freedom. URL'\n",
      " 'rt  irresponsible coverage of the war helps no one. western media need to be more responsible with their reporting.\\n\\nhttps…'\n",
      " 'rt  polish prime minister: after the incident with the missile, there is probably no need to apply article 4 of the nato treaty.…'\n",
      " ' ukraine must make reasonable concessions to realize a negotiated compromise peace, including territory… URL'\n",
      " ' to be sure, us, poland, nato &amp; kremlin know who’s missile. us  awacs continually monitors airspace. the… URL'\n",
      " 'rt  ⚡️germany announced an additional package of military support to ukraine, — the press service of the ministry of defense…'\n",
      " 'rt  these are the indicative estimates of russia’s combat losses as of nov. 16, according to the armed forces of ukraine.…'\n",
      " 'rt  to support the fundraising effort, please, donate via  \\nURL a note \"rrb\"\\n \\nrt the 🧵 to help…'\n",
      " 'rt  so biden gave loads of money to ukraine, who gave loads of money to ftx, who gave loads of money to democrats.\\n\\nsounds like…'\n",
      " 'rt  russia experienced another larger defeat at the svatove front. three t-72b3, relatively modern russian tank types, have been ca…'\n",
      " 'rt  fears of war spillover ease after nato says missile on poland was ukrainian stray URL URL'\n",
      " 'in the main, policy-makers have been more right than commentators on all aspects of the russian invasion of ukraine… URL'\n",
      " '  how much has been sent to ukraine?'\n",
      " 'rt  1/ banksy has confirmed that he created seven murals in different places in ukraine - in kyiv, irpin and borodianka (both i…'\n",
      " 'rt  ⚡️new interception of mdi of the ministry of defense of ukraine:\\n\\na military serviceman of the russian federation compla…'\n",
      " 'rt  ukraine is not a nato member and they bombed poland'\n",
      " ' potential nuclear war over the ukraine is pretty dangerous.'\n",
      " 'rt  ⚡️zelensky admits receiving hints that putin wanted to negotiate. \\n\\npresident volodymyr zelensky said on nov. 16 that…'\n",
      " 'oldlouis auctions - russia, germany, tannu tuva, ukraine, zeppelin &amp; airmail - auctio - november 29 - december 14,… URL'\n",
      " 'rt  💬 president #putin: those who collaborated with the nazis out of cowardice have to cover up this betrayal of the interests…'\n",
      " 'rt  #ukraine\\'s security service says it has discovered another \"torture chamber\" allegedly used by russian forces during the…'\n",
      " 'rt  a high-quality telescopic infrared lens, manufactured by the israeli company ophir optronics solutions, found in the iranian…'\n",
      " ' inflation, gas prices, war, immigration...and your party is banning crt and preventing both trans children… URL'\n",
      " '6 months of war in ukraine - economics, endurance &amp; the energy war\\n#nato #poland #unitedstates #wwiii #ukraine URL'\n",
      " 'rt  i condemn the russian invasion, the war against ukraine and the illegal occupation. \\n\\ntoday, i asked the foreign secretar…'\n",
      " 'rt  ⚡️pentagon chief: nasams intercept all russian missiles in ukraine. \\n\\nthe u.s. defense secretary lloyd austin said tha…'\n",
      " \"rt  extraordinary, that it's now accepted the missile strike in poland originated from ukraine.  yet there are people still…\"\n",
      " 'rt  anyway, people - no need to join our war against russia. \\n\\njust give us the tools. give us ammo. \\n\\nwe will figure it out. we ne…'\n",
      " \"rt  #ukraine demands to be allowed to inspect the scene in #poland. we don't agree with the conclusion that the ukrainian mis…\"\n",
      " \"rt  damming assessment of putin's invasion of #ukraine. us joint chiefs of staff chairman gen. mark milley says “russians fai…\"\n",
      " 'rt  zelensky just got caught lying about the missile that killed innocent citizens in poland.\\n\\nit didn’t come from russia l…'\n",
      " ' shopping for other places to launder money?, now that there are too many eyes on ukraine and ftx?'\n",
      " 'rt  i have taken a lot of heat for calling out the us proxy war in ukraine and for educating you about the real reasons for this…'\n",
      " '   have you looked at the ftx scandal, money was being donated from them to ukraine!'\n",
      " '    you seem to have no idea how well ukraine are doing.  or who supplie… URL'\n",
      " 'however, new reports now suggest that the missile that hit poland was fired by ukraine. some people are now suggest… URL'\n",
      " 'rt  belarus complains that ukraine has committed hostile actions by making it more difficult for belarus to invade ukraine.'\n",
      " 'rt  ukraine has managed to bring home 103 children who were forcibly taken from ukraine by russian occupiers.\\n\\nsource: yar…'\n",
      " 'rt  garland must answer for giuliani not being charged, or biden should fire him. giuliani should not remain free after conspi…'\n",
      " 'last night, a russian-made missile struck a locating in poland, killing two people. at first, people thought it cam… URL'\n",
      " 'rt   if it was just a mistake, then where is the missile that ukraine was shooting down? \\n\\nthey were just shooting \"de…']\n"
     ]
    }
   ],
   "source": [
    "def User_remove(text: str) -> str:\n",
    "    return re.sub('@[^\\s]+',\"\", text)\n",
    "    \n",
    "df[\"Tweet\"] = df.Tweet.apply(User_remove)\n",
    "\n",
    "cv = CountVectorizer()\n",
    "cv.fit(df[\"Tweet\"].values)\n",
    "\n",
    "print(\"dictionary size: \", len(cv.get_feature_names_out()))\n",
    "print(df.head(100).Tweet.values)"
   ]
  },
  {
   "attachments": {},
   "cell_type": "markdown",
   "metadata": {},
   "source": [
    "##### Replacing Emojis"
   ]
  },
  {
   "cell_type": "code",
   "execution_count": 257,
   "metadata": {},
   "outputs": [
    {
     "name": "stdout",
     "output_type": "stream",
     "text": [
      "dictionary size:  5498\n",
      "[\"rt  zelensky also confirms cia director bill burns' kyiv visit tuesday, during russia's missile attack. “yesterday burns sat…\"\n",
      " 'rt  russia acquired these vehicles from the secondhand car market, and did not capture them from ukraine. URL'\n",
      " 'rt  i’m calling for an audit of every single penny that has been sent to ukraine.\\n\\nthis must be done as soon as possible for the am…'\n",
      " 'rt  \"russian goal seems to be to entrench and defend for the next several months, and then attempt a new offensive in the…'\n",
      " \"rt  i see rishi just given another 4 and a half billion to the ukraine !!!  you'd think it was us at fekin war with russia…\"\n",
      " 'rt  URL'\n",
      " \"rt  predicting the trajectory and pacing of this war has not been america's strong suit. providing security assistance to le…\"\n",
      " 'rt  if putin took over ukraine, there was no guarantee that he wouldn’t immediately, or after a little while, go into neighbo…'\n",
      " 'can the risk of spillover from the ukraine war be contained? URL'\n",
      " 'rt  biden-ftx-ukraine is everything they claimed trump was doing with russia and then investigated him for five straight ye…'\n",
      " 'canada sanctions iranian drone makers amid russian strikes in ukraine – national #iranrussiannews #russiannews… URL'\n",
      " 'rt  three military toyota mega cruisers, likely donated to ukraine by japan, now in russian service. URL'\n",
      " 'rt  \"freedom and democracy\" arrived in kherson...\\n\\nsbu(security service of ukraine) rounded up some more \"collaborators\" in…'\n",
      " 'rt  #polandmissilestrike #ukraine #ftxscandal URL'\n",
      " 'rt  ukraine executed the false flag attack on poland so poorly that there was no chance to blame russia without losing all credi…'\n",
      " ' su-57 is labeled \"5th gen\" by the kremlin...face with raised eyebrow\\n\\ndo we really all believe that it\\'s even close to wester… URL'\n",
      " 'rt  you guys understand what you are watching right now? you think this is a coincidence that suddenly we are sending ukrain…'\n",
      " ' ukraine offers its condolences but claims to have evidence that they had no part in the accident. i… URL'\n",
      " 'rt  the missile attack killing two innocent people in poland was likely from ukrainian air defense.\\n\\nwe must stop letting zelensky…'\n",
      " 'rt  i was called a dangerous conspiracy theorist yesterday for stating that ukraine was responsible for the deadly missile…'\n",
      " 'rt  a reminder that russia shot down a passenger jet over ukraine in 2014, killing 298 civilians, and the west shrugged and got o…'\n",
      " 'rt  croatia presumably will donate 14 mi-8 and mi-8 mtv-1 helicopters to ukraine.\\nlink -URL'\n",
      " 'rt  i will vote no to any additional funding to ukraine.\\n\\nenough is enough, i will not stand for this corrupt money laundering op…'\n",
      " 'rt  air defense systems provided by the us and allied countries help ukraine protect the civilian population, and the american n…'\n",
      " \"rt  russia is behind the tigray genocide, collaborating with the fascist gov't of ethiopia. it is backing the tigray genocide a…\"\n",
      " 'rt  so if i understand it right we sent money to ukraine, then ukraine invests money in a crypto scam that then spends 40 mi…'\n",
      " ' ukraine took blame for that missile yesterday evening, please keep up'\n",
      " 'rt  from the  today:  and i spoke with  as we stand firm with the people of ukraine. we also a…'\n",
      " \" i am condemning russia's agression on ukraine.are your goals to stop conflicts everywhere they exists t… URL\"\n",
      " 'rt  we tried to warn you\\nو ما علينا الا البلاغ المبين\\n\\nmarch 2022 with \\n\\n“azov nazi battalions are officially part of…'\n",
      " '  bruh, it was a ukrainian missile lol, we going to invoke article 5 on ukraine i hope?'\n",
      " \"rt  in the picturesque seclusion of the wooded cemetery in plesets'ke village near kyiv, russia killed this women. shrapnel f…\"\n",
      " \" no.  i'm saying that the pentagon watches every inch of ukraine (maybe poland, too).  they know where it launched.\"\n",
      " 'rt  proof that \"slava ukraini\" is a fascist salute:\\n\\nthe second congress of the oun-b issued detailed instructions that the f…'\n",
      " 'rt  der spiegel URL'\n",
      " 'rt  just in: the probability of russia conquering ukraine militarily is “close to zero,” says gen. milley, in rare pentagon p…'\n",
      " ' it works. the pr machine went into overdrive. it’s close to mandatory to include references to ukraine,… URL'\n",
      " 'rt  \"a complete accident,  the missile went off by itself\" says ukraine guy URL'\n",
      " '    i dont think that means what you think it means really.  and w… URL'\n",
      " '     ww1, ww2, vietnam war, korean war, 9/11, afghanis… URL'\n",
      " \" vichnaya pamyat'. eternal memory to oleg, hero of ukraine. he will not be forgotten. may he rest in peace everlasting.\"\n",
      " \"rt  us funding for war in ukraine in 9 months:\\n\\nmar: $ 13.6 billion\\nmay: $ 40b \\nnov: $ 37.7b: biden's new request\\n\\nthat $ 91.3…\"\n",
      " 'rt  the winter war is beneficial to ukrainians, - us defense minister lloyd austin.\\n\\n \"we provided ukraine with a huge amo…'\n",
      " 'rt  did ukraine try to lie us into wwiii? - today on the liberty report:\\nURL'\n",
      " 'rt  history will come to know biden’s ukraine war as the greatest financial scandal in american presidential history.'\n",
      " 'rt  this was premature and we need to be careful. one of my concerns is that ukraine will need  american “advisors” to handle…'\n",
      " \"rt  watch: #bnnrussia reports\\n\\nchechen leader ramzan kadyrov responds after learning that the sbu (ukraine's security service) has…\"\n",
      " \"rt  if we project out to a year, that would be $120 billion each year to fuel the us proxy war in ukraine.\\n\\nthat's roughly 1/8…\"\n",
      " ' ultimately responsible for ukraine launching a missile in the wrong direction?'\n",
      " 'rt  fifa president calls for world cup ceasefire in ukraine at g20 URL URL'\n",
      " 'rt  breaking: \"this is getting ridiculous. the ukrainians are destroying [our] confidence in them. nobody is blaming ukraine and t…'\n",
      " 'rt  if approved, that’s more than $100 billion in aid to ukraine just this year. biden already approved $813 billion in us mili…'\n",
      " \"rt  since it was ukraine's missile that hit our nato ally poland, can we at least stop spending billions to arm them now?\"\n",
      " 'rt  ukraine is risking ww3 by shooting down an innocent russian cruise missile on its way to denazify a childrens playground.'\n",
      " 'rt  we must “give ukraine as much military aid as we can give, so that ukraine can defend themselves and push the aggressor back…'\n",
      " 'rt  without proof, zelensky accuses russia of firing missiles at poland, killing two poles, the media lap it up and the world…'\n",
      " 'rt  flag: Ukrainekiev government humiliates and officially asks jewish communities to hold prayer for \"defenders of ukraine\" on octob…'\n",
      " 'rt  high voltage️high voltage️financial times: \\n\\nresponding to zelensky’s remarks tonight, a nato country diplomat told me: “this is getting ridicul…'\n",
      " 'rt  us officials now admit blast in poland caused by stray missile fired by ukraine\\n\\nURL'\n",
      " 'rt  please do not forget the price #ukraine is paying on a daily basis for our freedom. URL'\n",
      " 'rt  irresponsible coverage of the war helps no one. western media need to be more responsible with their reporting.\\n\\nhttps…'\n",
      " 'rt  polish prime minister: after the incident with the missile, there is probably no need to apply article 4 of the nato treaty.…'\n",
      " ' ukraine must make reasonable concessions to realize a negotiated compromise peace, including territory… URL'\n",
      " ' to be sure, us, poland, nato &amp; kremlin know who’s missile. us  awacs continually monitors airspace. the… URL'\n",
      " 'rt  high voltage️germany announced an additional package of military support to ukraine, — the press service of the ministry of defense…'\n",
      " 'rt  these are the indicative estimates of russia’s combat losses as of nov. 16, according to the armed forces of ukraine.…'\n",
      " 'rt  to support the fundraising effort, please, donate via  \\nURL a note \"rrb\"\\n \\nrt the thread to help…'\n",
      " 'rt  so biden gave loads of money to ukraine, who gave loads of money to ftx, who gave loads of money to democrats.\\n\\nsounds like…'\n",
      " 'rt  russia experienced another larger defeat at the svatove front. three t-72b3, relatively modern russian tank types, have been ca…'\n",
      " 'rt  fears of war spillover ease after nato says missile on poland was ukrainian stray URL URL'\n",
      " 'in the main, policy-makers have been more right than commentators on all aspects of the russian invasion of ukraine… URL'\n",
      " '  how much has been sent to ukraine?'\n",
      " 'rt  1/ banksy has confirmed that he created seven murals in different places in ukraine - in kyiv, irpin and borodianka (both i…'\n",
      " 'rt  high voltage️new interception of mdi of the ministry of defense of ukraine:\\n\\na military serviceman of the russian federation compla…'\n",
      " 'rt  ukraine is not a nato member and they bombed poland'\n",
      " ' potential nuclear war over the ukraine is pretty dangerous.'\n",
      " 'rt  high voltage️zelensky admits receiving hints that putin wanted to negotiate. \\n\\npresident volodymyr zelensky said on nov. 16 that…'\n",
      " 'oldlouis auctions - russia, germany, tannu tuva, ukraine, zeppelin &amp; airmail - auctio - november 29 - december 14,… URL'\n",
      " 'rt  speech balloon president #putin: those who collaborated with the nazis out of cowardice have to cover up this betrayal of the interests…'\n",
      " 'rt  #ukraine\\'s security service says it has discovered another \"torture chamber\" allegedly used by russian forces during the…'\n",
      " 'rt  a high-quality telescopic infrared lens, manufactured by the israeli company ophir optronics solutions, found in the iranian…'\n",
      " ' inflation, gas prices, war, immigration...and your party is banning crt and preventing both trans children… URL'\n",
      " '6 months of war in ukraine - economics, endurance &amp; the energy war\\n#nato #poland #unitedstates #wwiii #ukraine URL'\n",
      " 'rt  i condemn the russian invasion, the war against ukraine and the illegal occupation. \\n\\ntoday, i asked the foreign secretar…'\n",
      " 'rt  high voltage️pentagon chief: nasams intercept all russian missiles in ukraine. \\n\\nthe u.s. defense secretary lloyd austin said tha…'\n",
      " \"rt  extraordinary, that it's now accepted the missile strike in poland originated from ukraine.  yet there are people still…\"\n",
      " 'rt  anyway, people - no need to join our war against russia. \\n\\njust give us the tools. give us ammo. \\n\\nwe will figure it out. we ne…'\n",
      " \"rt  #ukraine demands to be allowed to inspect the scene in #poland. we don't agree with the conclusion that the ukrainian mis…\"\n",
      " \"rt  damming assessment of putin's invasion of #ukraine. us joint chiefs of staff chairman gen. mark milley says “russians fai…\"\n",
      " 'rt  zelensky just got caught lying about the missile that killed innocent citizens in poland.\\n\\nit didn’t come from russia l…'\n",
      " ' shopping for other places to launder money?, now that there are too many eyes on ukraine and ftx?'\n",
      " 'rt  i have taken a lot of heat for calling out the us proxy war in ukraine and for educating you about the real reasons for this…'\n",
      " '   have you looked at the ftx scandal, money was being donated from them to ukraine!'\n",
      " '    you seem to have no idea how well ukraine are doing.  or who supplie… URL'\n",
      " 'however, new reports now suggest that the missile that hit poland was fired by ukraine. some people are now suggest… URL'\n",
      " 'rt  belarus complains that ukraine has committed hostile actions by making it more difficult for belarus to invade ukraine.'\n",
      " 'rt  ukraine has managed to bring home 103 children who were forcibly taken from ukraine by russian occupiers.\\n\\nsource: yar…'\n",
      " 'rt  garland must answer for giuliani not being charged, or biden should fire him. giuliani should not remain free after conspi…'\n",
      " 'last night, a russian-made missile struck a locating in poland, killing two people. at first, people thought it cam… URL'\n",
      " 'rt   if it was just a mistake, then where is the missile that ukraine was shooting down? \\n\\nthey were just shooting \"de…']\n"
     ]
    }
   ],
   "source": [
    "def Replacing_emojis(text: str) -> str:\n",
    "    return demoji.replace_with_desc(text,\"\")\n",
    "    \n",
    "df[\"Tweet\"] = df.Tweet.apply(Replacing_emojis)\n",
    "\n",
    "cv = CountVectorizer()\n",
    "cv.fit(df[\"Tweet\"].values)\n",
    "\n",
    "print(\"dictionary size: \", len(cv.get_feature_names_out()))\n",
    "print(df.head(100).Tweet.values)\n"
   ]
  },
  {
   "attachments": {},
   "cell_type": "markdown",
   "metadata": {},
   "source": [
    "##### Removing stopwords\n"
   ]
  },
  {
   "cell_type": "code",
   "execution_count": 258,
   "metadata": {},
   "outputs": [],
   "source": [
    "tokenizer = RegexpTokenizer (\"\\w+\")"
   ]
  },
  {
   "cell_type": "code",
   "execution_count": 259,
   "metadata": {},
   "outputs": [
    {
     "name": "stdout",
     "output_type": "stream",
     "text": [
      "dictionary size:  5365\n",
      "['rt zelensky also confirms cia director bill burns kyiv visit tuesday russia missile attack yesterday burns sat'\n",
      " 'rt russia acquired vehicles secondhand car market capture ukraine URL'\n",
      " 'rt calling audit every single penny sent ukraine must done soon possible'\n",
      " 'rt russian goal seems entrench defend next several months attempt new offensive'\n",
      " 'rt see rishi given another 4 half billion ukraine think us fekin war russia'\n",
      " 'rt URL'\n",
      " 'rt predicting trajectory pacing war america strong suit providing security assistance le'\n",
      " 'rt putin took ukraine guarantee immediately little go neighbo'\n",
      " 'risk spillover ukraine war contained URL'\n",
      " 'rt biden ftx ukraine everything claimed trump russia investigated five straight ye'\n",
      " 'canada sanctions iranian drone makers amid russian strikes ukraine national iranrussiannews russiannews URL'\n",
      " 'rt three military toyota mega cruisers likely donated ukraine japan russian service URL'\n",
      " 'rt freedom democracy arrived kherson sbu security service ukraine rounded collaborators'\n",
      " 'rt polandmissilestrike ukraine ftxscandal URL'\n",
      " 'rt ukraine executed false flag attack poland poorly chance blame russia without losing credi'\n",
      " 'su 57 labeled 5th gen kremlin face raised eyebrow really believe even close wester URL'\n",
      " 'rt guys understand watching right think coincidence suddenly sending ukrain'\n",
      " 'ukraine offers condolences claims evidence part accident URL'\n",
      " 'rt missile attack killing two innocent people poland likely ukrainian air defense must stop letting zelensky'\n",
      " 'rt called dangerous conspiracy theorist yesterday stating ukraine responsible deadly missile'\n",
      " 'rt reminder russia shot passenger jet ukraine 2014 killing 298 civilians west shrugged got'\n",
      " 'rt croatia presumably donate 14 mi 8 mi 8 mtv 1 helicopters ukraine link URL'\n",
      " 'rt vote additional funding ukraine enough enough stand corrupt money laundering op'\n",
      " 'rt air defense systems provided us allied countries help ukraine protect civilian population american n'\n",
      " 'rt russia behind tigray genocide collaborating fascist gov ethiopia backing tigray genocide'\n",
      " 'rt understand right sent money ukraine ukraine invests money crypto scam spends 40 mi'\n",
      " 'ukraine took blame missile yesterday evening please keep'\n",
      " 'rt today spoke stand firm people ukraine also'\n",
      " 'condemning russia agression ukraine goals stop conflicts everywhere exists URL'\n",
      " 'rt tried warn و ما علينا الا البلاغ المبين march 2022 azov nazi battalions officially part'\n",
      " 'bruh ukrainian missile lol going invoke article 5 ukraine hope'\n",
      " 'rt picturesque seclusion wooded cemetery plesets ke village near kyiv russia killed women shrapnel f'\n",
      " 'saying pentagon watches every inch ukraine maybe poland know launched'\n",
      " 'rt proof slava ukraini fascist salute second congress oun b issued detailed instructions f'\n",
      " 'rt der spiegel URL'\n",
      " 'rt probability russia conquering ukraine militarily close zero says gen milley rare pentagon p'\n",
      " 'works pr machine went overdrive close mandatory include references ukraine URL'\n",
      " 'rt complete accident missile went says ukraine guy URL'\n",
      " 'dont think means think means really w URL'\n",
      " 'ww1 ww2 vietnam war korean war 9 11 afghanis URL'\n",
      " 'vichnaya pamyat eternal memory oleg hero ukraine forgotten may rest peace everlasting'\n",
      " 'rt us funding war ukraine 9 months mar 13 6 billion may 40b nov 37 7b biden new request 91 3'\n",
      " 'rt winter war beneficial ukrainians us defense minister lloyd austin provided ukraine huge amo'\n",
      " 'rt ukraine try lie us wwiii today liberty report URL'\n",
      " 'rt history come know biden ukraine war greatest financial scandal american presidential history'\n",
      " 'rt premature need careful one concerns ukraine need american advisors handle'\n",
      " 'rt watch bnnrussia reports chechen leader ramzan kadyrov responds learning sbu ukraine security service'\n",
      " 'rt project year would 120 billion year fuel us proxy war ukraine roughly 1 8'\n",
      " 'ultimately responsible ukraine launching missile wrong direction'\n",
      " 'rt fifa president calls world cup ceasefire ukraine g20 URL URL'\n",
      " 'rt breaking getting ridiculous ukrainians destroying confidence nobody blaming ukraine'\n",
      " 'rt approved 100 billion aid ukraine year biden already approved 813 billion us mili'\n",
      " 'rt since ukraine missile hit nato ally poland least stop spending billions arm'\n",
      " 'rt ukraine risking ww3 shooting innocent russian cruise missile way denazify childrens playground'\n",
      " 'rt must give ukraine much military aid give ukraine defend push aggressor back'\n",
      " 'rt without proof zelensky accuses russia firing missiles poland killing two poles media lap world'\n",
      " 'rt flag Ukrainekiev government humiliates officially asks jewish communities hold prayer defenders ukraine octob'\n",
      " 'rt high voltage high voltage financial times responding zelensky remarks tonight nato country diplomat told getting ridicul'\n",
      " 'rt us officials admit blast poland caused stray missile fired ukraine URL'\n",
      " 'rt please forget price ukraine paying daily basis freedom URL'\n",
      " 'rt irresponsible coverage war helps one western media need responsible reporting https'\n",
      " 'rt polish prime minister incident missile probably need apply article 4 nato treaty'\n",
      " 'ukraine must make reasonable concessions realize negotiated compromise peace including territory URL'\n",
      " 'sure us poland nato amp kremlin know missile us awacs continually monitors airspace URL'\n",
      " 'rt high voltage germany announced additional package military support ukraine press service ministry defense'\n",
      " 'rt indicative estimates russia combat losses nov 16 according armed forces ukraine'\n",
      " 'rt support fundraising effort please donate via URL note rrb rt thread help'\n",
      " 'rt biden gave loads money ukraine gave loads money ftx gave loads money democrats sounds like'\n",
      " 'rt russia experienced another larger defeat svatove front three 72b3 relatively modern russian tank types ca'\n",
      " 'rt fears war spillover ease nato says missile poland ukrainian stray URL URL'\n",
      " 'main policy makers right commentators aspects russian invasion ukraine URL'\n",
      " 'much sent ukraine'\n",
      " 'rt 1 banksy confirmed created seven murals different places ukraine kyiv irpin borodianka'\n",
      " 'rt high voltage new interception mdi ministry defense ukraine military serviceman russian federation compla'\n",
      " 'rt ukraine nato member bombed poland'\n",
      " 'potential nuclear war ukraine pretty dangerous'\n",
      " 'rt high voltage zelensky admits receiving hints putin wanted negotiate president volodymyr zelensky said nov 16'\n",
      " 'oldlouis auctions russia germany tannu tuva ukraine zeppelin amp airmail auctio november 29 december 14 URL'\n",
      " 'rt speech balloon president putin collaborated nazis cowardice cover betrayal interests'\n",
      " 'rt ukraine security service says discovered another torture chamber allegedly used russian forces'\n",
      " 'rt high quality telescopic infrared lens manufactured israeli company ophir optronics solutions found iranian'\n",
      " 'inflation gas prices war immigration party banning crt preventing trans children URL'\n",
      " '6 months war ukraine economics endurance amp energy war nato poland unitedstates wwiii ukraine URL'\n",
      " 'rt condemn russian invasion war ukraine illegal occupation today asked foreign secretar'\n",
      " 'rt high voltage pentagon chief nasams intercept russian missiles ukraine u defense secretary lloyd austin said tha'\n",
      " 'rt extraordinary accepted missile strike poland originated ukraine yet people still'\n",
      " 'rt anyway people need join war russia give us tools give us ammo figure ne'\n",
      " 'rt ukraine demands allowed inspect scene poland agree conclusion ukrainian mis'\n",
      " 'rt damming assessment putin invasion ukraine us joint chiefs staff chairman gen mark milley says russians fai'\n",
      " 'rt zelensky got caught lying missile killed innocent citizens poland come russia l'\n",
      " 'shopping places launder money many eyes ukraine ftx'\n",
      " 'rt taken lot heat calling us proxy war ukraine educating real reasons'\n",
      " 'looked ftx scandal money donated ukraine'\n",
      " 'seem idea well ukraine supplie URL'\n",
      " 'however new reports suggest missile hit poland fired ukraine people suggest URL'\n",
      " 'rt belarus complains ukraine committed hostile actions making difficult belarus invade ukraine'\n",
      " 'rt ukraine managed bring home 103 children forcibly taken ukraine russian occupiers source yar'\n",
      " 'rt garland must answer giuliani charged biden fire giuliani remain free conspi'\n",
      " 'last night russian made missile struck locating poland killing two people first people thought cam URL'\n",
      " 'rt mistake missile ukraine shooting shooting de']\n"
     ]
    }
   ],
   "source": [
    "def remove_stop_words(text: str) -> str:\n",
    "    stop_words = set(stopwords.words(\"english\"))\n",
    "    words = tokenizer.tokenize(text)\n",
    "    return \" \".join([word for word in words if word not in stop_words])\n",
    "\n",
    "df[\"Tweet\"] = df.Tweet.apply(remove_stop_words)\n",
    "\n",
    "cv = CountVectorizer()\n",
    "cv.fit(df[\"Tweet\"].values)\n",
    "\n",
    "print(\"dictionary size: \", len(cv.get_feature_names_out()))\n",
    "print(df.head(100).Tweet.values)\n",
    "    "
   ]
  },
  {
   "attachments": {},
   "cell_type": "markdown",
   "metadata": {},
   "source": [
    "##### Lemmatizing and Stemmerizing \n"
   ]
  },
  {
   "cell_type": "code",
   "execution_count": 260,
   "metadata": {},
   "outputs": [],
   "source": [
    "stemmer = SnowballStemmer(\"english\")\n",
    "lemmatizer = WordNetLemmatizer()\n",
    "tokenizer = RegexpTokenizer (\"\\w+\")"
   ]
  },
  {
   "cell_type": "code",
   "execution_count": null,
   "metadata": {},
   "outputs": [],
   "source": [
    "df[\"Tweet\"] = df.Tweet.apply(lambda x: \" \".join([stemmer.stem(lemmatizer.lemmatize(i)) for i in tokenizer.tokenize(x)]))\n",
    "\n",
    "cv = CountVectorizer(stop_words=[\"english\"])\n",
    "\n",
    "cv.fit(df[\"Tweet\"].values)\n",
    "print(\"dictionary size: \", len(cv.get_feature_names_out()))\n",
    "\n",
    "print(\"dictionary: \", cv.get_feature_names_out())\n",
    "df.shape\n",
    "print(df.head(100).Tweet.values)"
   ]
  },
  {
   "attachments": {},
   "cell_type": "markdown",
   "metadata": {},
   "source": [
    "### Write Text Transformer"
   ]
  },
  {
   "cell_type": "code",
   "execution_count": 301,
   "metadata": {},
   "outputs": [],
   "source": [
    "class TextTransformer(BaseEstimator, TransformerMixin):\n",
    "    def __init__(self) -> None:\n",
    "        self._tokenizer = RegexpTokenizer(\"\\w+\")\n",
    "        self._stemmer = SnowballStemmer(\"english\")\n",
    "        self._lemmatizer = WordNetLemmatizer()\n",
    "        \n",
    "    def fit(self, X, y = None):\n",
    "        return self\n",
    "\n",
    "    def _lower_casing(self, text: str) -> str:\n",
    "        return text.lower()  \n",
    "\n",
    "    def _URL_relpacing(self, text: str) -> str:\n",
    "        return re.sub(r\"((http://)[^ ]*|(https://)[^ ]*|( www\\.)[^ ]*)\",\"URL\", text) \n",
    "    \n",
    "    def _User_remove(self, text: str) -> str:\n",
    "        return re.sub('@[^\\s]+',\"\", text)\n",
    "\n",
    "    def _replacing_emojis(self, text: str) -> str:\n",
    "        return demoji.replace_with_desc(text,\"\")\n",
    "    \n",
    "    def _remove_stop_words(self, text: str) -> str:\n",
    "        stop_words = set(stopwords.words(\"english\"))\n",
    "        words = self._tokenizer.tokenize(text)\n",
    "        return \" \".join([word for word in words if word not in stop_words])\n",
    "    \n",
    "    def _transform_text(self, text: str) -> str:\n",
    "        text = self._lower_casing(text)\n",
    "        text = self._URL_relpacing(text)\n",
    "        text = self._User_remove(text)\n",
    "        text = self._replacing_emojis(text)\n",
    "        text = self._remove_stop_words(text)\n",
    "        words = self._tokenizer.tokenize(text)\n",
    "        return \" \".join([self._stemmer.stem(self._lemmatizer.lemmatize(word)) for word in words])\n",
    "    \n",
    "    def transform(self, X: List[str], y = None) -> List[str]:\n",
    "        return [self._transform_text(x) for x in X]"
   ]
  },
  {
   "cell_type": "code",
   "execution_count": 302,
   "metadata": {},
   "outputs": [],
   "source": [
    "text_transformer = TextTransformer()"
   ]
  },
  {
   "attachments": {},
   "cell_type": "markdown",
   "metadata": {},
   "source": [
    "##### How transformer works"
   ]
  },
  {
   "cell_type": "code",
   "execution_count": 305,
   "metadata": {},
   "outputs": [
    {
     "name": "stdout",
     "output_type": "stream",
     "text": [
      "[\"RT @ChristopherJM: Zelensky also confirms CIA Director Bill Burns' Kyiv visit Tuesday, during Russia's missile attack. “Yesterday Burns sat…\"\n",
      " 'RT @oryxspioenkop: Russia acquired these vehicles from the secondhand car market, and did not capture them from Ukraine. https://t.co/bagJE…']\n"
     ]
    },
    {
     "data": {
      "text/plain": [
       "['rt zelenski also confirm cia director bill burn kyiv visit tuesday russia missil attack yesterday burn sat',\n",
       " 'rt russia acquir vehicl secondhand car market captur ukrain url']"
      ]
     },
     "execution_count": 305,
     "metadata": {},
     "output_type": "execute_result"
    }
   ],
   "source": [
    "df = pd.read_csv(\"./data/clean_tweets.csv\")\n",
    "print(df.head(2)[\"Tweet\"].values)\n",
    "text_transformer.fit_transform(df.head(2)[\"Tweet\"].values)"
   ]
  },
  {
   "cell_type": "markdown",
   "metadata": {},
   "source": []
  },
  {
   "cell_type": "code",
   "execution_count": 324,
   "metadata": {},
   "outputs": [],
   "source": [
    "pipeline = Pipeline([\n",
    "    (\"text_preprocessor\", TextTransformer()),\n",
    "    (\"cv\", CountVectorizer(stop_words=[\"english\"])),\n",
    "    (\"model\", LogisticRegression())\n",
    "])"
   ]
  },
  {
   "attachments": {},
   "cell_type": "markdown",
   "metadata": {},
   "source": [
    "sita skiltis turetu eiti prie domenu isvalymo/paruo6imo"
   ]
  },
  {
   "cell_type": "code",
   "execution_count": 314,
   "metadata": {},
   "outputs": [
    {
     "name": "stdout",
     "output_type": "stream",
     "text": [
      "label\n",
      "0    1648\n",
      "1     436\n",
      "dtype: int64\n"
     ]
    },
    {
     "data": {
      "text/html": [
       "<div>\n",
       "<style scoped>\n",
       "    .dataframe tbody tr th:only-of-type {\n",
       "        vertical-align: middle;\n",
       "    }\n",
       "\n",
       "    .dataframe tbody tr th {\n",
       "        vertical-align: top;\n",
       "    }\n",
       "\n",
       "    .dataframe thead th {\n",
       "        text-align: right;\n",
       "    }\n",
       "</style>\n",
       "<table border=\"1\" class=\"dataframe\">\n",
       "  <thead>\n",
       "    <tr style=\"text-align: right;\">\n",
       "      <th></th>\n",
       "      <th>Tweet</th>\n",
       "      <th>Sentiment</th>\n",
       "      <th>label</th>\n",
       "    </tr>\n",
       "  </thead>\n",
       "  <tbody>\n",
       "    <tr>\n",
       "      <th>0</th>\n",
       "      <td>RT @ChristopherJM: Zelensky also confirms CIA ...</td>\n",
       "      <td>Negative</td>\n",
       "      <td>0</td>\n",
       "    </tr>\n",
       "    <tr>\n",
       "      <th>1</th>\n",
       "      <td>RT @oryxspioenkop: Russia acquired these vehic...</td>\n",
       "      <td>Positive</td>\n",
       "      <td>1</td>\n",
       "    </tr>\n",
       "    <tr>\n",
       "      <th>2</th>\n",
       "      <td>RT @RepMTG: I’m calling for an audit of every ...</td>\n",
       "      <td>Positive</td>\n",
       "      <td>1</td>\n",
       "    </tr>\n",
       "    <tr>\n",
       "      <th>3</th>\n",
       "      <td>RT @KyivIndependent: \"Russian goal seems to be...</td>\n",
       "      <td>Negative</td>\n",
       "      <td>0</td>\n",
       "    </tr>\n",
       "    <tr>\n",
       "      <th>4</th>\n",
       "      <td>RT @william98161886: I see Rishi just given an...</td>\n",
       "      <td>Positive</td>\n",
       "      <td>1</td>\n",
       "    </tr>\n",
       "  </tbody>\n",
       "</table>\n",
       "</div>"
      ],
      "text/plain": [
       "                                               Tweet Sentiment  label\n",
       "0  RT @ChristopherJM: Zelensky also confirms CIA ...  Negative      0\n",
       "1  RT @oryxspioenkop: Russia acquired these vehic...  Positive      1\n",
       "2  RT @RepMTG: I’m calling for an audit of every ...  Positive      1\n",
       "3  RT @KyivIndependent: \"Russian goal seems to be...  Negative      0\n",
       "4  RT @william98161886: I see Rishi just given an...  Positive      1"
      ]
     },
     "execution_count": 314,
     "metadata": {},
     "output_type": "execute_result"
    }
   ],
   "source": [
    "df = pd.read_csv(\"./data/clean_tweets.csv\")\n",
    "df[\"label\"] = df[\"Sentiment\"].apply(lambda x: int(x == \"Positive\"))\n",
    "\n",
    "print (df.groupby(by=[\"label\"]).size())\n",
    "df.head(5)"
   ]
  },
  {
   "cell_type": "markdown",
   "metadata": {},
   "source": []
  },
  {
   "cell_type": "code",
   "execution_count": 321,
   "metadata": {},
   "outputs": [
    {
     "name": "stdout",
     "output_type": "stream",
     "text": [
      "Train: label\n",
      "0    1239\n",
      "1     324\n",
      "dtype: int64\n",
      "Test: label\n",
      "0    409\n",
      "1    112\n",
      "dtype: int64\n"
     ]
    }
   ],
   "source": [
    "train_df, test_df = train_test_split(df)\n",
    "\n",
    "print (\"Train:\",train_df.groupby(by=[\"label\"]).size())\n",
    "print (\"Test:\", test_df.groupby(by=[\"label\"]).size())"
   ]
  },
  {
   "attachments": {},
   "cell_type": "markdown",
   "metadata": {},
   "source": []
  },
  {
   "cell_type": "code",
   "execution_count": 325,
   "metadata": {},
   "outputs": [
    {
     "data": {
      "text/html": [
       "<style>#sk-container-id-2 {color: black;background-color: white;}#sk-container-id-2 pre{padding: 0;}#sk-container-id-2 div.sk-toggleable {background-color: white;}#sk-container-id-2 label.sk-toggleable__label {cursor: pointer;display: block;width: 100%;margin-bottom: 0;padding: 0.3em;box-sizing: border-box;text-align: center;}#sk-container-id-2 label.sk-toggleable__label-arrow:before {content: \"▸\";float: left;margin-right: 0.25em;color: #696969;}#sk-container-id-2 label.sk-toggleable__label-arrow:hover:before {color: black;}#sk-container-id-2 div.sk-estimator:hover label.sk-toggleable__label-arrow:before {color: black;}#sk-container-id-2 div.sk-toggleable__content {max-height: 0;max-width: 0;overflow: hidden;text-align: left;background-color: #f0f8ff;}#sk-container-id-2 div.sk-toggleable__content pre {margin: 0.2em;color: black;border-radius: 0.25em;background-color: #f0f8ff;}#sk-container-id-2 input.sk-toggleable__control:checked~div.sk-toggleable__content {max-height: 200px;max-width: 100%;overflow: auto;}#sk-container-id-2 input.sk-toggleable__control:checked~label.sk-toggleable__label-arrow:before {content: \"▾\";}#sk-container-id-2 div.sk-estimator input.sk-toggleable__control:checked~label.sk-toggleable__label {background-color: #d4ebff;}#sk-container-id-2 div.sk-label input.sk-toggleable__control:checked~label.sk-toggleable__label {background-color: #d4ebff;}#sk-container-id-2 input.sk-hidden--visually {border: 0;clip: rect(1px 1px 1px 1px);clip: rect(1px, 1px, 1px, 1px);height: 1px;margin: -1px;overflow: hidden;padding: 0;position: absolute;width: 1px;}#sk-container-id-2 div.sk-estimator {font-family: monospace;background-color: #f0f8ff;border: 1px dotted black;border-radius: 0.25em;box-sizing: border-box;margin-bottom: 0.5em;}#sk-container-id-2 div.sk-estimator:hover {background-color: #d4ebff;}#sk-container-id-2 div.sk-parallel-item::after {content: \"\";width: 100%;border-bottom: 1px solid gray;flex-grow: 1;}#sk-container-id-2 div.sk-label:hover label.sk-toggleable__label {background-color: #d4ebff;}#sk-container-id-2 div.sk-serial::before {content: \"\";position: absolute;border-left: 1px solid gray;box-sizing: border-box;top: 0;bottom: 0;left: 50%;z-index: 0;}#sk-container-id-2 div.sk-serial {display: flex;flex-direction: column;align-items: center;background-color: white;padding-right: 0.2em;padding-left: 0.2em;position: relative;}#sk-container-id-2 div.sk-item {position: relative;z-index: 1;}#sk-container-id-2 div.sk-parallel {display: flex;align-items: stretch;justify-content: center;background-color: white;position: relative;}#sk-container-id-2 div.sk-item::before, #sk-container-id-2 div.sk-parallel-item::before {content: \"\";position: absolute;border-left: 1px solid gray;box-sizing: border-box;top: 0;bottom: 0;left: 50%;z-index: -1;}#sk-container-id-2 div.sk-parallel-item {display: flex;flex-direction: column;z-index: 1;position: relative;background-color: white;}#sk-container-id-2 div.sk-parallel-item:first-child::after {align-self: flex-end;width: 50%;}#sk-container-id-2 div.sk-parallel-item:last-child::after {align-self: flex-start;width: 50%;}#sk-container-id-2 div.sk-parallel-item:only-child::after {width: 0;}#sk-container-id-2 div.sk-dashed-wrapped {border: 1px dashed gray;margin: 0 0.4em 0.5em 0.4em;box-sizing: border-box;padding-bottom: 0.4em;background-color: white;}#sk-container-id-2 div.sk-label label {font-family: monospace;font-weight: bold;display: inline-block;line-height: 1.2em;}#sk-container-id-2 div.sk-label-container {text-align: center;}#sk-container-id-2 div.sk-container {/* jupyter's `normalize.less` sets `[hidden] { display: none; }` but bootstrap.min.css set `[hidden] { display: none !important; }` so we also need the `!important` here to be able to override the default hidden behavior on the sphinx rendered scikit-learn.org. See: https://github.com/scikit-learn/scikit-learn/issues/21755 */display: inline-block !important;position: relative;}#sk-container-id-2 div.sk-text-repr-fallback {display: none;}</style><div id=\"sk-container-id-2\" class=\"sk-top-container\"><div class=\"sk-text-repr-fallback\"><pre>Pipeline(steps=[(&#x27;text_preprocessor&#x27;, TextTransformer()),\n",
       "                (&#x27;cv&#x27;, CountVectorizer(stop_words=[&#x27;english&#x27;])),\n",
       "                (&#x27;model&#x27;, LogisticRegression())])</pre><b>In a Jupyter environment, please rerun this cell to show the HTML representation or trust the notebook. <br />On GitHub, the HTML representation is unable to render, please try loading this page with nbviewer.org.</b></div><div class=\"sk-container\" hidden><div class=\"sk-item sk-dashed-wrapped\"><div class=\"sk-label-container\"><div class=\"sk-label sk-toggleable\"><input class=\"sk-toggleable__control sk-hidden--visually\" id=\"sk-estimator-id-2\" type=\"checkbox\" ><label for=\"sk-estimator-id-2\" class=\"sk-toggleable__label sk-toggleable__label-arrow\">Pipeline</label><div class=\"sk-toggleable__content\"><pre>Pipeline(steps=[(&#x27;text_preprocessor&#x27;, TextTransformer()),\n",
       "                (&#x27;cv&#x27;, CountVectorizer(stop_words=[&#x27;english&#x27;])),\n",
       "                (&#x27;model&#x27;, LogisticRegression())])</pre></div></div></div><div class=\"sk-serial\"><div class=\"sk-item\"><div class=\"sk-estimator sk-toggleable\"><input class=\"sk-toggleable__control sk-hidden--visually\" id=\"sk-estimator-id-3\" type=\"checkbox\" ><label for=\"sk-estimator-id-3\" class=\"sk-toggleable__label sk-toggleable__label-arrow\">TextTransformer</label><div class=\"sk-toggleable__content\"><pre>TextTransformer()</pre></div></div></div><div class=\"sk-item\"><div class=\"sk-estimator sk-toggleable\"><input class=\"sk-toggleable__control sk-hidden--visually\" id=\"sk-estimator-id-4\" type=\"checkbox\" ><label for=\"sk-estimator-id-4\" class=\"sk-toggleable__label sk-toggleable__label-arrow\">CountVectorizer</label><div class=\"sk-toggleable__content\"><pre>CountVectorizer(stop_words=[&#x27;english&#x27;])</pre></div></div></div><div class=\"sk-item\"><div class=\"sk-estimator sk-toggleable\"><input class=\"sk-toggleable__control sk-hidden--visually\" id=\"sk-estimator-id-5\" type=\"checkbox\" ><label for=\"sk-estimator-id-5\" class=\"sk-toggleable__label sk-toggleable__label-arrow\">LogisticRegression</label><div class=\"sk-toggleable__content\"><pre>LogisticRegression()</pre></div></div></div></div></div></div></div>"
      ],
      "text/plain": [
       "Pipeline(steps=[('text_preprocessor', TextTransformer()),\n",
       "                ('cv', CountVectorizer(stop_words=['english'])),\n",
       "                ('model', LogisticRegression())])"
      ]
     },
     "execution_count": 325,
     "metadata": {},
     "output_type": "execute_result"
    }
   ],
   "source": [
    "pipeline.fit(train_df[\"Tweet\"].values, train_df[\"label\"].values)"
   ]
  },
  {
   "cell_type": "code",
   "execution_count": 328,
   "metadata": {},
   "outputs": [
    {
     "name": "stdout",
     "output_type": "stream",
     "text": [
      "Accuracy:  0.8234165067178503\n"
     ]
    }
   ],
   "source": [
    "y_true = test_df[\"label\"].values\n",
    "\n",
    "predictions = pipeline.predict(test_df[\"Tweet\"].values)\n",
    "\n",
    "print(\"Accuracy: \", accuracy_score(y_true, predictions))\n",
    "#print(classification_report(y_true, predictions))"
   ]
  },
  {
   "cell_type": "code",
   "execution_count": 329,
   "metadata": {},
   "outputs": [
    {
     "data": {
      "text/plain": [
       "array(['00', '000', '02', ..., 'สเซ', 'เครน', '❼11'], dtype=object)"
      ]
     },
     "execution_count": 329,
     "metadata": {},
     "output_type": "execute_result"
    }
   ],
   "source": [
    "feature_names = pipeline.named_steps[\"cv\"].get_feature_names_out()\n",
    "feature_names"
   ]
  },
  {
   "cell_type": "code",
   "execution_count": 347,
   "metadata": {},
   "outputs": [
    {
     "data": {
      "text/html": [
       "\n",
       "    <style>\n",
       "    table.eli5-weights tr:hover {\n",
       "        filter: brightness(85%);\n",
       "    }\n",
       "</style>\n",
       "\n",
       "\n",
       "\n",
       "    \n",
       "\n",
       "    \n",
       "\n",
       "    \n",
       "\n",
       "    \n",
       "\n",
       "    \n",
       "\n",
       "    \n",
       "\n",
       "\n",
       "    \n",
       "\n",
       "    \n",
       "\n",
       "    \n",
       "\n",
       "    \n",
       "        \n",
       "\n",
       "    \n",
       "\n",
       "        \n",
       "            \n",
       "                \n",
       "                \n",
       "    \n",
       "        <p style=\"margin-bottom: 0.5em; margin-top: 0em\">\n",
       "            <b>\n",
       "    \n",
       "        y=1\n",
       "    \n",
       "</b>\n",
       "\n",
       "top features\n",
       "        </p>\n",
       "    \n",
       "    <table class=\"eli5-weights\"\n",
       "           style=\"border-collapse: collapse; border: none; margin-top: 0em; table-layout: auto; margin-bottom: 2em;\">\n",
       "        <thead>\n",
       "        <tr style=\"border: none;\">\n",
       "            \n",
       "                <th style=\"padding: 0 1em 0 0.5em; text-align: right; border: none;\" title=\"Feature weights. Note that weights do not account for feature value scales, so if feature values have different scales, features with highest weights might not be the most important.\">\n",
       "                    Weight<sup>?</sup>\n",
       "                </th>\n",
       "            \n",
       "            <th style=\"padding: 0 0.5em 0 0.5em; text-align: left; border: none;\">Feature</th>\n",
       "            \n",
       "        </tr>\n",
       "        </thead>\n",
       "        <tbody>\n",
       "        \n",
       "            <tr style=\"background-color: hsl(120, 100.00%, 80.00%); border: none;\">\n",
       "    <td style=\"padding: 0 1em 0 0.5em; text-align: right; border: none;\">\n",
       "        +2.279\n",
       "    </td>\n",
       "    <td style=\"padding: 0 0.5em 0 0.5em; text-align: left; border: none;\">\n",
       "        militari\n",
       "    </td>\n",
       "    \n",
       "</tr>\n",
       "        \n",
       "            <tr style=\"background-color: hsl(120, 100.00%, 81.10%); border: none;\">\n",
       "    <td style=\"padding: 0 1em 0 0.5em; text-align: right; border: none;\">\n",
       "        +2.102\n",
       "    </td>\n",
       "    <td style=\"padding: 0 0.5em 0 0.5em; text-align: left; border: none;\">\n",
       "        fals\n",
       "    </td>\n",
       "    \n",
       "</tr>\n",
       "        \n",
       "            <tr style=\"background-color: hsl(120, 100.00%, 83.88%); border: none;\">\n",
       "    <td style=\"padding: 0 1em 0 0.5em; text-align: right; border: none;\">\n",
       "        +1.674\n",
       "    </td>\n",
       "    <td style=\"padding: 0 0.5em 0 0.5em; text-align: left; border: none;\">\n",
       "        tough\n",
       "    </td>\n",
       "    \n",
       "</tr>\n",
       "        \n",
       "            <tr style=\"background-color: hsl(120, 100.00%, 83.98%); border: none;\">\n",
       "    <td style=\"padding: 0 1em 0 0.5em; text-align: right; border: none;\">\n",
       "        +1.660\n",
       "    </td>\n",
       "    <td style=\"padding: 0 0.5em 0 0.5em; text-align: left; border: none;\">\n",
       "        kill\n",
       "    </td>\n",
       "    \n",
       "</tr>\n",
       "        \n",
       "            <tr style=\"background-color: hsl(120, 100.00%, 84.07%); border: none;\">\n",
       "    <td style=\"padding: 0 1em 0 0.5em; text-align: right; border: none;\">\n",
       "        +1.647\n",
       "    </td>\n",
       "    <td style=\"padding: 0 0.5em 0 0.5em; text-align: left; border: none;\">\n",
       "        corrupt\n",
       "    </td>\n",
       "    \n",
       "</tr>\n",
       "        \n",
       "            <tr style=\"background-color: hsl(120, 100.00%, 84.49%); border: none;\">\n",
       "    <td style=\"padding: 0 1em 0 0.5em; text-align: right; border: none;\">\n",
       "        +1.585\n",
       "    </td>\n",
       "    <td style=\"padding: 0 0.5em 0 0.5em; text-align: left; border: none;\">\n",
       "        dead\n",
       "    </td>\n",
       "    \n",
       "</tr>\n",
       "        \n",
       "            <tr style=\"background-color: hsl(120, 100.00%, 84.60%); border: none;\">\n",
       "    <td style=\"padding: 0 1em 0 0.5em; text-align: right; border: none;\">\n",
       "        +1.568\n",
       "    </td>\n",
       "    <td style=\"padding: 0 0.5em 0 0.5em; text-align: left; border: none;\">\n",
       "        bad\n",
       "    </td>\n",
       "    \n",
       "</tr>\n",
       "        \n",
       "            <tr style=\"background-color: hsl(120, 100.00%, 84.70%); border: none;\">\n",
       "    <td style=\"padding: 0 1em 0 0.5em; text-align: right; border: none;\">\n",
       "        +1.555\n",
       "    </td>\n",
       "    <td style=\"padding: 0 0.5em 0 0.5em; text-align: left; border: none;\">\n",
       "        fuck\n",
       "    </td>\n",
       "    \n",
       "</tr>\n",
       "        \n",
       "            <tr style=\"background-color: hsl(120, 100.00%, 85.55%); border: none;\">\n",
       "    <td style=\"padding: 0 1em 0 0.5em; text-align: right; border: none;\">\n",
       "        +1.433\n",
       "    </td>\n",
       "    <td style=\"padding: 0 0.5em 0 0.5em; text-align: left; border: none;\">\n",
       "        serious\n",
       "    </td>\n",
       "    \n",
       "</tr>\n",
       "        \n",
       "        \n",
       "            <tr style=\"background-color: hsl(120, 100.00%, 85.55%); border: none;\">\n",
       "                <td colspan=\"2\" style=\"padding: 0 0.5em 0 0.5em; text-align: center; border: none; white-space: nowrap;\">\n",
       "                    <i>&hellip; 1072 more positive &hellip;</i>\n",
       "                </td>\n",
       "            </tr>\n",
       "        \n",
       "\n",
       "        \n",
       "            <tr style=\"background-color: hsl(0, 100.00%, 84.84%); border: none;\">\n",
       "                <td colspan=\"2\" style=\"padding: 0 0.5em 0 0.5em; text-align: center; border: none; white-space: nowrap;\">\n",
       "                    <i>&hellip; 2508 more negative &hellip;</i>\n",
       "                </td>\n",
       "            </tr>\n",
       "        \n",
       "        \n",
       "            <tr style=\"background-color: hsl(0, 100.00%, 84.84%); border: none;\">\n",
       "    <td style=\"padding: 0 1em 0 0.5em; text-align: right; border: none;\">\n",
       "        -1.534\n",
       "    </td>\n",
       "    <td style=\"padding: 0 0.5em 0 0.5em; text-align: left; border: none;\">\n",
       "        &lt;BIAS&gt;\n",
       "    </td>\n",
       "    \n",
       "</tr>\n",
       "        \n",
       "\n",
       "        </tbody>\n",
       "    </table>\n",
       "\n",
       "            \n",
       "        \n",
       "\n",
       "        \n",
       "\n",
       "\n",
       "\n",
       "    \n",
       "\n",
       "    \n",
       "\n",
       "    \n",
       "\n",
       "    \n",
       "\n",
       "\n",
       "    \n",
       "\n",
       "    \n",
       "\n",
       "    \n",
       "\n",
       "    \n",
       "\n",
       "    \n",
       "\n",
       "    \n",
       "\n",
       "\n",
       "    \n",
       "\n",
       "    \n",
       "\n",
       "    \n",
       "\n",
       "    \n",
       "\n",
       "    \n",
       "\n",
       "    \n",
       "\n",
       "\n",
       "\n"
      ],
      "text/plain": [
       "Explanation(estimator='LogisticRegression()', description=\"\\nFeatures with largest coefficients.\\nCaveats:\\n1. Be careful with features which are not\\n   independent - weights don't show their importance.\\n2. If scale of input features is different then scale of coefficients\\n   will also be different, making direct comparison between coefficient values\\n   incorrect.\\n3. Depending on regularization, rare features sometimes may have high\\n   coefficients; this doesn't mean they contribute much to the\\n   classification result for most examples.\\n\", error=None, method='linear model', is_regression=False, targets=[TargetExplanation(target=1, feature_weights=FeatureWeights(pos=[FeatureWeight(feature='militari', weight=2.278936878817307, std=None, value=None), FeatureWeight(feature='fals', weight=2.101534022972348, std=None, value=None), FeatureWeight(feature='tough', weight=1.6740824253657889, std=None, value=None), FeatureWeight(feature='kill', weight=1.6596282393073092, std=None, value=None), FeatureWeight(feature='corrupt', weight=1.6466708161845705, std=None, value=None), FeatureWeight(feature='dead', weight=1.5846252326843253, std=None, value=None), FeatureWeight(feature='bad', weight=1.5682881616779745, std=None, value=None), FeatureWeight(feature='fuck', weight=1.5545365087817753, std=None, value=None), FeatureWeight(feature='serious', weight=1.4330063491604592, std=None, value=None)], neg=[FeatureWeight(feature='<BIAS>', weight=-1.534253680894393, std=None, value=None)], pos_remaining=1072, neg_remaining=2508), proba=None, score=None, weighted_spans=None, heatmap=None)], feature_importances=None, decision_tree=None, highlight_spaces=None, transition_features=None, image=None)"
      ]
     },
     "execution_count": 347,
     "metadata": {},
     "output_type": "execute_result"
    }
   ],
   "source": [
    "eli5.explain_weights(pipeline.named_steps[\"model\"],top=10, feature_names=feature_names)\n",
    "\n"
   ]
  },
  {
   "cell_type": "code",
   "execution_count": 350,
   "metadata": {},
   "outputs": [
    {
     "ename": "NameError",
     "evalue": "name 'text' is not defined",
     "output_type": "error",
     "traceback": [
      "\u001b[1;31m---------------------------------------------------------------------------\u001b[0m",
      "\u001b[1;31mNameError\u001b[0m                                 Traceback (most recent call last)",
      "Cell \u001b[1;32mIn [350], line 1\u001b[0m\n\u001b[1;32m----> 1\u001b[0m eli5\u001b[39m.\u001b[39mshow_prediction(\u001b[39m\"\u001b[39m\u001b[39mRT @jacksonhinklle: I was called a dangerous conspiracy theorist yesterday for stating that Ukraine was responsible for the deadly missileâ€¦\u001b[39m\u001b[39m\"\u001b[39m,text)\n",
      "\u001b[1;31mNameError\u001b[0m: name 'text' is not defined"
     ]
    }
   ],
   "source": [
    "eli5.show_prediction(\"RT @jacksonhinklle: I was called a dangerous conspiracy theorist yesterday for stating that Ukraine was responsible for the deadly missileâ€¦\",text) "
   ]
  },
  {
   "cell_type": "markdown",
   "metadata": {},
   "source": []
  },
  {
   "cell_type": "markdown",
   "metadata": {},
   "source": []
  }
 ],
 "metadata": {
  "kernelspec": {
   "display_name": "Python 3",
   "language": "python",
   "name": "python3"
  },
  "language_info": {
   "codemirror_mode": {
    "name": "ipython",
    "version": 3
   },
   "file_extension": ".py",
   "mimetype": "text/x-python",
   "name": "python",
   "nbconvert_exporter": "python",
   "pygments_lexer": "ipython3",
   "version": "3.9.13 (tags/v3.9.13:6de2ca5, May 17 2022, 16:36:42) [MSC v.1929 64 bit (AMD64)]"
  },
  "orig_nbformat": 4,
  "vscode": {
   "interpreter": {
    "hash": "4ed119640b50016f9ab578d4fb17c7ad2c9990d64b579e7db744d362e25f58be"
   }
  }
 },
 "nbformat": 4,
 "nbformat_minor": 2
}
