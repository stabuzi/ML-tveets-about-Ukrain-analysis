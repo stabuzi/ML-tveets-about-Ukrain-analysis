{
 "cells": [
  {
   "cell_type": "code",
   "execution_count": 54,
   "metadata": {},
   "outputs": [],
   "source": [
    "import requests\n",
    "from bs4 import BeautifulSoup\n",
    "from typing import List, Dict, Optional\n"
   ]
  },
  {
   "cell_type": "code",
   "execution_count": 56,
   "metadata": {},
   "outputs": [],
   "source": [
    "Main_URL=\"https://www.litgrid.eu/index.php/tinklo-pletra/standartiniai-techniniai-reikalavimai/standartiniai-techniniai-reikalavimai/2632\""
   ]
  },
  {
   "cell_type": "code",
   "execution_count": 42,
   "metadata": {},
   "outputs": [],
   "source": [
    "Main_URL=\"https://www.litgrid.eu/index.php/tinklo-pletra/standartiniai-techniniai-reikalavimai/elektros-perdavimo-linijos/400-110-kv-itampos-oro-linijos/31104\""
   ]
  },
  {
   "cell_type": "code",
   "execution_count": 57,
   "metadata": {},
   "outputs": [],
   "source": [
    "page=requests.get(Main_URL)"
   ]
  },
  {
   "cell_type": "code",
   "execution_count": null,
   "metadata": {},
   "outputs": [],
   "source": [
    "page.content"
   ]
  },
  {
   "cell_type": "code",
   "execution_count": 58,
   "metadata": {},
   "outputs": [],
   "source": [
    "soup = BeautifulSoup(page.content, 'html.parser')"
   ]
  },
  {
   "cell_type": "code",
   "execution_count": null,
   "metadata": {},
   "outputs": [],
   "source": [
    "print(soup.prettify())"
   ]
  },
  {
   "cell_type": "code",
   "execution_count": 64,
   "metadata": {},
   "outputs": [
    {
     "name": "stdout",
     "output_type": "stream",
     "text": [
      "radau\n"
     ]
    }
   ],
   "source": [
    "SR=soup.find(\"div\", class_=\"inner_bg_top\").find_all(\"a\")\n",
    "#SR=soup.find_all(\"a\")\n",
    "\n",
    "if SR:\n",
    "    print(\"radau\")\n",
    "\n",
    "d=10"
   ]
  },
  {
   "cell_type": "code",
   "execution_count": null,
   "metadata": {},
   "outputs": [],
   "source": [
    "for element in SR:\n",
    "    Galutinis_puslapis=element.parent.find(\"a\", class_=\"file\")\n",
    "   \n",
    "\n",
    "    i=1\n",
    "    while  Galutinis_puslapis is None or i<5:\n",
    "        URL_Next_Page=element[\"href\"]\n",
    "        page_next=requests.get(URL_Next_Page)    \n",
    "        soup_next = BeautifulSoup(page_next.content, 'html.parser')\n",
    "        SR_next=soup_next.find(\"div\", class_=\"inner_bg_top\").find_all(\"a\")\n",
    "\n",
    "        print(i)\n",
    "        i += 1\n",
    "    else:\n",
    "        print(\"i is no longer less than 6\")\n",
    "\n",
    "\n",
    "    if a is None:\n",
    "        print(\"None\")\n",
    "    else:\n",
    "        print(\"Ne none: \",a.text)\n",
    "   \n",
    "\n",
    "    print(element.text)"
   ]
  },
  {
   "cell_type": "code",
   "execution_count": null,
   "metadata": {},
   "outputs": [],
   "source": [
    "#get page list\n",
    "def get_pages_info(URL1: str) -> Optional[List[Dict]]:\n",
    "\n",
    "    results: List[Dict] = []\n",
    "    results1: List[Dict] = []\n",
    "    Find_all_TS: bool\n",
    "\n",
    "    results.append({\n",
    "            \"Failo URL\": \"\", \n",
    "            \"TS pavadiniams\": \"\", \n",
    "            \"Kategorijos\": \"\", \n",
    "            \"Puslapio URL\": URL1\n",
    "    })\n",
    "    \n",
    "    Find_all_TS=False \n",
    "    i=1  \n",
    "\n",
    "    while Find_all_TS == False or i<10:\n",
    "\n",
    "        Find_all_TS=True   \n",
    "        \n",
    "\n",
    "        for item in results:\n",
    "            if item[\"Failo URL\"]==\"\":\n",
    "                page=requests.get(item[\"Puslapio URL\"])\n",
    "                soup = BeautifulSoup(page.content, 'html.parser')\n",
    "                SR=soup.find(\"div\", class_=\"inner_bg_top\").find_all(\"a\",class_=\"file\")\n",
    "                if SR:\n",
    "                    for Elementas in SR:\n",
    "                        results1.append({\n",
    "                        \"Failo URL\": Elementas[\"href\"], \n",
    "                        \"TS pavadiniams\": Elementas.text, \n",
    "                        \"Kategorijos\": item[\"Kategorijos\"], \n",
    "                        \"Puslapio URL\": item[\"Puslapio URL\"]\n",
    "                        })\n",
    "                else:\n",
    "                    for Elementas in SR:\n",
    "                        Find_all_TS=False\n",
    "                        results1.append({\n",
    "                        \"Failo URL\": \"\", \n",
    "                        \"TS pavadiniams\": '\"', \n",
    "                        \"Kategorijos\":item[\"Kategorijos\"] + \"/\" + Elementas.text, \n",
    "                        \"Puslapio URL\": Elementas[\"href\"]\n",
    "                        })\n",
    "            else:\n",
    "                results1.append({\n",
    "                 \"Failo URL\": item[\"Failo URL\"], \n",
    "                 \"TS pavadiniams\": item[\"TS pavadiniams\"], \n",
    "                 \"Kategorijos\": item[\"Kategorijos\"], \n",
    "                 \"Puslapio URL\": item[\"Puslapio URL\"]\n",
    "                 })\n",
    "\n",
    "        \n",
    "\n",
    "        results=results1.copy()\n",
    "        results1.clear()\n",
    "\n",
    "        i=i+1\n",
    "\n",
    "\n",
    "\n",
    "    \n",
    "    \n",
    "\n",
    "\n",
    "    return results\n",
    "\n"
   ]
  },
  {
   "cell_type": "code",
   "execution_count": null,
   "metadata": {},
   "outputs": [],
   "source": [
    "results: List[Dict] = []\n",
    "results = get_pages_info()"
   ]
  },
  {
   "cell_type": "code",
   "execution_count": null,
   "metadata": {},
   "outputs": [],
   "source": [
    "for element in SR:\n",
    "    if element"
   ]
  }
 ],
 "metadata": {
  "kernelspec": {
   "display_name": ".venv",
   "language": "python",
   "name": "python3"
  },
  "language_info": {
   "codemirror_mode": {
    "name": "ipython",
    "version": 3
   },
   "file_extension": ".py",
   "mimetype": "text/x-python",
   "name": "python",
   "nbconvert_exporter": "python",
   "pygments_lexer": "ipython3",
   "version": "3.9.13"
  },
  "orig_nbformat": 4,
  "vscode": {
   "interpreter": {
    "hash": "bb4fd4c37322ef8714bf96323817f6458b61b7fd42f4eb5302eb5c8ac66aa40a"
   }
  }
 },
 "nbformat": 4,
 "nbformat_minor": 2
}
